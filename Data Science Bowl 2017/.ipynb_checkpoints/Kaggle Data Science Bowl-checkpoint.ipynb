{
 "cells": [
  {
   "cell_type": "code",
   "execution_count": 5,
   "metadata": {},
   "outputs": [
    {
     "data": {
      "text/html": [
       "<div>\n",
       "<style>\n",
       "    .dataframe thead tr:only-child th {\n",
       "        text-align: right;\n",
       "    }\n",
       "\n",
       "    .dataframe thead th {\n",
       "        text-align: left;\n",
       "    }\n",
       "\n",
       "    .dataframe tbody tr th {\n",
       "        vertical-align: top;\n",
       "    }\n",
       "</style>\n",
       "<table border=\"1\" class=\"dataframe\">\n",
       "  <thead>\n",
       "    <tr style=\"text-align: right;\">\n",
       "      <th></th>\n",
       "      <th>cancer</th>\n",
       "    </tr>\n",
       "    <tr>\n",
       "      <th>id</th>\n",
       "      <th></th>\n",
       "    </tr>\n",
       "  </thead>\n",
       "  <tbody>\n",
       "    <tr>\n",
       "      <th>0015ceb851d7251b8f399e39779d1e7d</th>\n",
       "      <td>1</td>\n",
       "    </tr>\n",
       "    <tr>\n",
       "      <th>0030a160d58723ff36d73f41b170ec21</th>\n",
       "      <td>0</td>\n",
       "    </tr>\n",
       "    <tr>\n",
       "      <th>003f41c78e6acfa92430a057ac0b306e</th>\n",
       "      <td>0</td>\n",
       "    </tr>\n",
       "    <tr>\n",
       "      <th>006b96310a37b36cccb2ab48d10b49a3</th>\n",
       "      <td>1</td>\n",
       "    </tr>\n",
       "    <tr>\n",
       "      <th>008464bb8521d09a42985dd8add3d0d2</th>\n",
       "      <td>1</td>\n",
       "    </tr>\n",
       "  </tbody>\n",
       "</table>\n",
       "</div>"
      ],
      "text/plain": [
       "                                  cancer\n",
       "id                                      \n",
       "0015ceb851d7251b8f399e39779d1e7d       1\n",
       "0030a160d58723ff36d73f41b170ec21       0\n",
       "003f41c78e6acfa92430a057ac0b306e       0\n",
       "006b96310a37b36cccb2ab48d10b49a3       1\n",
       "008464bb8521d09a42985dd8add3d0d2       1"
      ]
     },
     "execution_count": 5,
     "metadata": {},
     "output_type": "execute_result"
    }
   ],
   "source": [
    "%config IPCompleter.greedy=True \n",
    "import dicom #read the dicom files\n",
    "import os #do directory operations\n",
    "import pandas as pd #nice for data analysis\n",
    "\n",
    "data_dir = '/Volumes/USB_DRIVE/Data Science Bowl/stage1/stage1/' #directory for the data\n",
    "patients = os.listdir(data_dir) # get all items inside of folder\n",
    "labels_df = pd.read_csv('stage1_labels.csv', index_col=0) # put into dataframe\n",
    "\n",
    "labels_df.head()"
   ]
  },
  {
   "cell_type": "code",
   "execution_count": 8,
   "metadata": {},
   "outputs": [
    {
     "name": "stdout",
     "output_type": "stream",
     "text": [
      "195 (512, 512)\n"
     ]
    }
   ],
   "source": [
    "%config IPCompleter.greedy=True \n",
    "for patient in patients[:1]: # this is making a list containing only the first patient\n",
    "    label = labels_df.get_value(patient, 'cancer')\n",
    "    path = data_dir + patient # path to dicom files for patient\n",
    "    slices = [dicom.read_file(path + '/' + s) for s in os.listdir(path)] # reading in all the dicom files for patient\n",
    "    #x is the dicom file\n",
    "    slices.sort(key = lambda x: float(x.ImagePositionPatient[2])) # This sorts the dicom files by the third value in image position patient attribute\n",
    "    print(len(slices), slices[0].pixel_array.shape)\n",
    "#     print(slices[0]) # this is the dicom file for the patient"
   ]
  },
  {
   "cell_type": "code",
   "execution_count": 15,
   "metadata": {},
   "outputs": [
    {
     "name": "stdout",
     "output_type": "stream",
     "text": [
      "20\n"
     ]
    },
    {
     "ename": "NameError",
     "evalue": "name 'new_image' is not defined",
     "output_type": "error",
     "traceback": [
      "\u001b[0;31m---------------------------------------------------------------------------\u001b[0m",
      "\u001b[0;31mNameError\u001b[0m                                 Traceback (most recent call last)",
      "\u001b[0;32m<ipython-input-15-8506cb6780db>\u001b[0m in \u001b[0;36m<module>\u001b[0;34m()\u001b[0m\n\u001b[1;32m     53\u001b[0m     \u001b[0;32mfor\u001b[0m \u001b[0mnum\u001b[0m\u001b[0;34m,\u001b[0m \u001b[0meach_slice\u001b[0m \u001b[0;32min\u001b[0m \u001b[0menumerate\u001b[0m\u001b[0;34m(\u001b[0m\u001b[0mnew_slices\u001b[0m\u001b[0;34m)\u001b[0m\u001b[0;34m:\u001b[0m \u001b[0;31m#getting the index and slice for the first 12 slices\u001b[0m\u001b[0;34m\u001b[0m\u001b[0m\n\u001b[1;32m     54\u001b[0m         \u001b[0my\u001b[0m \u001b[0;34m=\u001b[0m \u001b[0mfig\u001b[0m\u001b[0;34m.\u001b[0m\u001b[0madd_subplot\u001b[0m\u001b[0;34m(\u001b[0m\u001b[0;36m4\u001b[0m\u001b[0;34m,\u001b[0m \u001b[0;36m5\u001b[0m\u001b[0;34m,\u001b[0m \u001b[0mnum\u001b[0m \u001b[0;34m+\u001b[0m \u001b[0;36m1\u001b[0m\u001b[0;34m)\u001b[0m\u001b[0;34m\u001b[0m\u001b[0m\n\u001b[0;32m---> 55\u001b[0;31m         \u001b[0my\u001b[0m\u001b[0;34m.\u001b[0m\u001b[0mimshow\u001b[0m\u001b[0;34m(\u001b[0m\u001b[0mnew_image\u001b[0m\u001b[0;34m)\u001b[0m\u001b[0;34m\u001b[0m\u001b[0m\n\u001b[0m\u001b[1;32m     56\u001b[0m     \u001b[0mplt\u001b[0m\u001b[0;34m.\u001b[0m\u001b[0mshow\u001b[0m\u001b[0;34m(\u001b[0m\u001b[0;34m)\u001b[0m\u001b[0;34m\u001b[0m\u001b[0m\n",
      "\u001b[0;31mNameError\u001b[0m: name 'new_image' is not defined"
     ]
    }
   ],
   "source": [
    "import matplotlib.pyplot as plt\n",
    "import cv2\n",
    "import numpy as np\n",
    "import math\n",
    "\n",
    "IMG_PX_SIZE = 150\n",
    "HM_SLICES = 20\n",
    "\n",
    "#make list into list of lists\n",
    "def chunks(l, n):\n",
    "    for i in range(0, len(l), n):\n",
    "        yield l[i:i + n]\n",
    "\n",
    "def mean(l):\n",
    "    return sum(l)/len(l)\n",
    "\n",
    "for patient in patients[:10]: # this is making a list containing only the first patient\n",
    "    label = labels_df.get_value(patient, 'cancer')\n",
    "    path = data_dir + patient # path to dicom files for patient\n",
    "    slices = [dicom.read_file(path + '/' + s) for s in os.listdir(path)] # reading in all the dicom files for patient\n",
    "    #x is the dicom file\n",
    "    slices.sort(key = lambda x: float(x.ImagePositionPatient[2])) # This sorts the dicom files by the third value in image position patient attribute\n",
    "    \n",
    "    new_slices = []\n",
    "    slices = [cv2.resize(np.array(each_slice.pixel_array), (IMG_PX_SIZE, IMG_PX_SIZE)) for each_slice in slices]\n",
    "    \n",
    "    chunk_sizes = math.ceil(len(slices)/HM_SLICES)\n",
    "    \n",
    "    for slice_chunk in chunks(slices, chunk_sizes):\n",
    "        slice_chunk = list(map(mean, zip(*slice_chunk)))\n",
    "        new_slices.append(slice_chunk)\n",
    "    \n",
    "    if len(new_slices) == HM_SLICES - 1:\n",
    "        new_slices.append(new_slices[-1])\n",
    "        \n",
    "    if len(new_slices) == HM_SLICES - 2:\n",
    "        new_slices.append(new_slices[-1])\n",
    "        new_slices.append(new_slices[-1])\n",
    "    \n",
    "    if len(new_slices) == HM_SLICES + 2:\n",
    "        new_val = list(map(mean, zip(*[new_slices[HM_SLICES - 1], new_slices[HM_SLICES]])))\n",
    "        del new_slices[HM_SLICES]\n",
    "        new_slices[-1] = new_val\n",
    "    \n",
    "    if len(new_slices) == HM_SLICES + 1:\n",
    "        new_val = list(map(mean, zip(*[new_slices[HM_SLICES - 1], new_slices[HM_SLICES]])))\n",
    "        del new_slices[HM_SLICES]\n",
    "        new_slices[-1] = new_val\n",
    "    \n",
    "    print(len(new_slices))\n",
    "    \n",
    "    fig = plt.figure()\n",
    "    for num, each_slice in enumerate(new_slices): #getting the index and slice for the first 12 slices\n",
    "        y = fig.add_subplot(4, 5, num + 1)\n",
    "        y.imshow(each_slice)\n",
    "    plt.show()"
   ]
  },
  {
   "cell_type": "code",
   "execution_count": null,
   "metadata": {
    "collapsed": true
   },
   "outputs": [],
   "source": []
  }
 ],
 "metadata": {
  "kernelspec": {
   "display_name": "Python 3",
   "language": "python",
   "name": "python3"
  },
  "language_info": {
   "codemirror_mode": {
    "name": "ipython",
    "version": 3
   },
   "file_extension": ".py",
   "mimetype": "text/x-python",
   "name": "python",
   "nbconvert_exporter": "python",
   "pygments_lexer": "ipython3",
   "version": "3.6.3"
  }
 },
 "nbformat": 4,
 "nbformat_minor": 2
}
